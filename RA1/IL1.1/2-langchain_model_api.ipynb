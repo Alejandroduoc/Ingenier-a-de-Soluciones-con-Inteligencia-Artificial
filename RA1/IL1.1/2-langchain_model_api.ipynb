{
 "cells": [
  {
   "cell_type": "markdown",
   "id": "lfnvtz6n2j",
   "source": "## Ejercicios Prácticos\n\n### Ejercicio 1: Crear Diferentes Personalidades\nUsa SystemMessage para crear asistentes con diferentes personalidades (formal, casual, técnico, creativo).\n\n### Ejercicio 2: Cadena de Conversación\nConstruye una conversación de múltiples turnos usando los diferentes tipos de mensajes.\n\n### Ejercicio 3: Comparar Proveedores\nSi tienes acceso a múltiples proveedores, configura LangChain para usar diferentes APIs y compara resultados.\n\n## Conceptos Clave Aprendidos\n\n1. **Abstracción de LangChain** sobre APIs directas\n2. **Tipos de mensajes** y su equivalencia con roles OpenAI\n3. **Configuraciones múltiples** para diferentes casos de uso\n4. **Ventajas y desventajas** de frameworks vs APIs directas\n5. **Intercambiabilidad** de proveedores con LangChain\n\n## Próximos Pasos\n\nEn el siguiente notebook exploraremos el **streaming** con LangChain, que permite mostrar respuestas en tiempo real para mejorar la experiencia de usuario.",
   "metadata": {}
  },
  {
   "cell_type": "code",
   "id": "mmv9pccf41h",
   "source": "# Configuraciones múltiples con diferentes parámetros\ndef configuraciones_multiples():\n    # Configuración conservadora (para tareas que requieren precisión)\n    llm_conservador = ChatOpenAI(\n        base_url=os.getenv(\"OPENAI_BASE_URL\"),\n        api_key=os.getenv(\"GITHUB_TOKEN\"),\n        model=\"gpt-4o\",\n        temperature=0.1,  # Muy determinístico\n        max_tokens=100\n    )\n    \n    # Configuración creativa (para tareas que requieren creatividad)\n    llm_creativo = ChatOpenAI(\n        base_url=os.getenv(\"OPENAI_BASE_URL\"),\n        api_key=os.getenv(\"GITHUB_TOKEN\"),\n        model=\"gpt-4o\",\n        temperature=0.9,  # Muy creativo\n        max_tokens=150\n    )\n    \n    prompt = \"Escribe un eslogan para una empresa de tecnología\"\n    \n    print(\"=== COMPARACIÓN DE CONFIGURACIONES ===\")\n    \n    try:\n        # Respuesta conservadora\n        print(\"\\n1. Configuración Conservadora (temp=0.1):\")\n        print(\"-\" * 40)\n        response_conservador = llm_conservador.invoke([HumanMessage(content=prompt)])\n        print(response_conservador.content)\n        \n        # Respuesta creativa\n        print(\"\\n2. Configuración Creativa (temp=0.9):\")\n        print(\"-\" * 35)\n        response_creativo = llm_creativo.invoke([HumanMessage(content=prompt)])\n        print(response_creativo.content)\n        \n    except Exception as e:\n        print(f\"Error: {e}\")\n\n# Ejecutar comparación\nconfiguraciones_multiples()",
   "metadata": {},
   "outputs": []
  },
  {
   "cell_type": "markdown",
   "id": "2cogq5qfk5s",
   "source": "## Configuración Avanzada con LangChain\n\nLangChain permite configuraciones más sofisticadas y cambiar proveedores fácilmente.",
   "metadata": {}
  },
  {
   "cell_type": "code",
   "id": "70tz4637bor",
   "source": "# Comparación de código entre LangChain y OpenAI directo\nfrom openai import OpenAI\n\ndef comparar_enfoques():\n    prompt = \"Explica qué es Python en una oración\"\n    \n    print(\"=\" * 60)\n    print(\"COMPARACIÓN: LangChain vs OpenAI Directo\")\n    print(\"=\" * 60)\n    \n    # Método 1: OpenAI Directo\n    print(\"\\n1. OpenAI Directo:\")\n    print(\"-\" * 20)\n    try:\n        client = OpenAI(\n            base_url=os.getenv(\"OPENAI_BASE_URL\"),\n            api_key=os.getenv(\"GITHUB_TOKEN\")\n        )\n        \n        response_openai = client.chat.completions.create(\n            model=\"gpt-4o\",\n            messages=[{\"role\": \"user\", \"content\": prompt}],\n            temperature=0.7,\n            max_tokens=50\n        )\n        \n        print(f\"Respuesta: {response_openai.choices[0].message.content}\")\n        print(f\"Tokens: {response_openai.usage.total_tokens}\")\n        \n    except Exception as e:\n        print(f\"Error OpenAI: {e}\")\n    \n    # Método 2: LangChain\n    print(\"\\n2. LangChain:\")\n    print(\"-\" * 15)\n    try:\n        response_langchain = llm.invoke([HumanMessage(content=prompt)])\n        print(f\"Respuesta: {response_langchain.content}\")\n        print(f\"Tipo: {type(response_langchain)}\")\n        \n    except Exception as e:\n        print(f\"Error LangChain: {e}\")\n    \n    print(\"\\n\" + \"=\" * 60)\n    print(\"VENTAJAS DE CADA ENFOQUE:\")\n    print(\"=\" * 60)\n    print(\"OpenAI Directo:\")\n    print(\"+ Control total sobre parámetros\")\n    print(\"+ Acceso directo a metadatos (tokens, costos)\")\n    print(\"+ Menor abstracción, más transparente\")\n    print()\n    print(\"LangChain:\")\n    print(\"+ Interfaz unificada para múltiples proveedores\")\n    print(\"+ Herramientas adicionales (cadenas, memoria, etc.)\")\n    print(\"+ Más fácil composición de operaciones complejas\")\n    print(\"+ Mejor para prototipado rápido\")\n\n# Ejecutar comparación\ncomparar_enfoques()",
   "metadata": {},
   "outputs": []
  },
  {
   "cell_type": "markdown",
   "id": "kr3xjddkgk",
   "source": "## Comparación: LangChain vs OpenAI Directo\n\nVeamos las diferencias en código entre usar LangChain y el cliente OpenAI directo:",
   "metadata": {}
  },
  {
   "cell_type": "code",
   "id": "00sy7nm4qjnz",
   "source": "# Ejemplo con múltiples tipos de mensajes\ndef ejemplo_conversacion_completa():\n    try:\n        messages = [\n            SystemMessage(content=\"Eres un tutor de programación amigable y paciente. Explicas conceptos técnicos de forma clara y das ejemplos prácticos.\"),\n            HumanMessage(content=\"¿Qué es una función en programación?\"),\n            AIMessage(content=\"Una función es un bloque de código reutilizable que realiza una tarea específica. Te ayuda a organizar tu código y evitar repetición.\"),\n            HumanMessage(content=\"¿Puedes darme un ejemplo simple en Python?\")\n        ]\n        \n        response = llm.invoke(messages)\n        print(\"=== Conversación con Contexto ===\")\n        print(response.content)\n        \n    except Exception as e:\n        print(f\"Error: {e}\")\n\n# Ejecutar ejemplo\nejemplo_conversacion_completa()",
   "metadata": {},
   "outputs": []
  },
  {
   "cell_type": "markdown",
   "id": "oo03yspeo1c",
   "source": "## Tipos de Mensajes en LangChain\n\nLangChain proporciona diferentes tipos de mensajes que corresponden a los roles en OpenAI:\n- **HumanMessage**: Mensajes del usuario (equivale a \"user\")\n- **AIMessage**: Respuestas del asistente (equivale a \"assistant\")  \n- **SystemMessage**: Instrucciones del sistema (equivale a \"system\")",
   "metadata": {}
  },
  {
   "cell_type": "markdown",
   "id": "fc323955",
   "metadata": {},
   "source": "# 2. LangChain Model API - Abstracción y Framework\n\n## Objetivos de Aprendizaje\n- Comprender las ventajas del framework LangChain sobre APIs directas\n- Configurar ChatOpenAI con diferentes proveedores\n- Explorar la compatibilidad entre diferentes modelos\n- Implementar patrones de uso común con LangChain\n\n## Introducción a LangChain\n\nLangChain es un framework que simplifica el desarrollo de aplicaciones con modelos de lenguaje. Principales ventajas:\n- **Abstracción**: Una interfaz unificada para múltiples proveedores\n- **Herramientas**: Componentes predefinidos para tareas comunes\n- **Cadenas**: Composición de múltiples operaciones\n- **Memoria**: Gestión automática del historial de conversaciones\n\n## Instalación de Dependencias\n```bash\npip install langchain langchain-openai\n```",
   "outputs": []
  },
  {
   "cell_type": "code",
   "id": "dc2edfcd",
   "metadata": {},
   "outputs": [],
   "source": "# Importar las bibliotecas de LangChain\nfrom langchain_openai import ChatOpenAI\nfrom langchain.schema import HumanMessage, AIMessage, SystemMessage\nimport os\n\n# Verificar versiones\nprint(\"Verificando instalación de LangChain...\")\ntry:\n    import langchain\n    print(f\"✓ LangChain version: {langchain.__version__}\")\nexcept ImportError:\n    print(\"✗ LangChain no está instalado\")\n\nprint(\"Bibliotecas importadas correctamente\")"
  },
  {
   "cell_type": "code",
   "id": "cf0b0a60",
   "metadata": {},
   "outputs": [],
   "source": "# Configuración del modelo LangChain con GitHub Models\ntry:\n    llm = ChatOpenAI(\n        base_url=os.getenv(\"OPENAI_BASE_URL\"),\n        api_key=os.getenv(\"GITHUB_TOKEN\"),\n        model=\"gpt-4o\",\n        temperature=0.7,\n        max_tokens=150\n    )\n    \n    print(\"✓ Modelo LangChain configurado correctamente\")\n    print(f\"Modelo: {llm.model_name}\")\n    print(f\"Temperature: {llm.temperature}\")\n    print(f\"Max tokens: {llm.max_tokens}\")\n    \nexcept Exception as e:\n    print(f\"✗ Error en configuración: {e}\")\n    print(\"Verifica las variables de entorno OPENAI_BASE_URL y GITHUB_TOKEN\")"
  },
  {
   "cell_type": "code",
   "id": "fda9fc31",
   "metadata": {},
   "outputs": [],
   "source": "# Uso básico con LangChain - Diferentes tipos de mensajes\ndef ejemplo_basico():\n    try:\n        # Usar HumanMessage (equivalente a \"user\" en OpenAI)\n        response = llm.invoke([HumanMessage(content=\"Hola, ¿cómo estás?\")])\n        print(\"=== Respuesta Básica ===\")\n        print(response.content)\n        print(f\"Tipo de respuesta: {type(response)}\")\n        \n    except Exception as e:\n        print(f\"Error: {e}\")\n\n# Ejecutar ejemplo básico\nejemplo_basico()"
  }
 ],
 "metadata": {
  "kernelspec": {
   "display_name": "Python 3",
   "language": "python",
   "name": "python3"
  },
  "language_info": {
   "codemirror_mode": {
    "name": "ipython",
    "version": 3
   },
   "file_extension": ".py",
   "mimetype": "text/x-python",
   "name": "python",
   "nbconvert_exporter": "python",
   "pygments_lexer": "ipython3",
   "version": "3.11.7"
  }
 },
 "nbformat": 4,
 "nbformat_minor": 5
}