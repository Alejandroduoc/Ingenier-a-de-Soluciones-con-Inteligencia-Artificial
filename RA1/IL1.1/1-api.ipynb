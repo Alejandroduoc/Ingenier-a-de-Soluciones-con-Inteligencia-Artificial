{
 "cells": [
  {
   "cell_type": "code",
   "execution_count": null,
   "id": "7c95ec21",
   "metadata": {},
   "outputs": [],
   "source": [
    "# Importar la biblioteca openai\n",
    "# pip install openai"
   ]
  },
  {
   "cell_type": "code",
   "execution_count": 1,
   "id": "9e34c5aa",
   "metadata": {},
   "outputs": [],
   "source": [
    "import openai"
   ]
  },
  {
   "cell_type": "code",
   "execution_count": null,
   "id": "bfc6b98e",
   "metadata": {},
   "outputs": [],
   "source": [
    "# Reemplaza 'TU_API_KEY' con tu clave de API de OpenAI\n",
    "openai.api_key = 'TU_API_KEY'\n",
    "\n",
    "# Ejemplo de solicitud a la API de OpenAI (modelo GPT-4o-mini)\n",
    "# (Asegúrate de tener acceso al modelo GPT-4o-mini)\n",
    "response = openai.ChatCompletion.create(\n",
    "    model=\"gpt-4o-mini\",\n",
    "    messages=[\n",
    "        {\"role\": \"system\", \"content\": \"Eres un asistente útil.\"},\n",
    "        {\"role\": \"user\", \"content\": \"Hola, ¿puedes ayudarme?\"}\n",
    "    ]\n",
    ")\n",
    "\n",
    "print(response['choices'][0]['message']['content'])"
   ]
  }
 ],
 "metadata": {
  "kernelspec": {
   "display_name": "Python 3",
   "language": "python",
   "name": "python3"
  },
  "language_info": {
   "codemirror_mode": {
    "name": "ipython",
    "version": 3
   },
   "file_extension": ".py",
   "mimetype": "text/x-python",
   "name": "python",
   "nbconvert_exporter": "python",
   "pygments_lexer": "ipython3",
   "version": "3.11.7"
  }
 },
 "nbformat": 4,
 "nbformat_minor": 5
}
